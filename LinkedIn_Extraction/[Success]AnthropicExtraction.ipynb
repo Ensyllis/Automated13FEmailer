{
 "cells": [
  {
   "cell_type": "code",
   "execution_count": 1,
   "metadata": {},
   "outputs": [
    {
     "name": "stdout",
     "output_type": "stream",
     "text": [
      "{\n",
      "  \"company\": \"SRN Advisors LLC\",\n",
      "  \"results\": [\n",
      "    {\n",
      "      \"title\": \"Chris Cappillo - SVP - SRN Advisors LLC | LinkedIn\",\n",
      "      \"url\": \"https://www.linkedin.com/in/chris-cappillo-4474a27\",\n",
      "      \"body\": \"View Chris Cappillo's profile on LinkedIn, the world's largest professional community. Chris has 13 jobs listed on their profile. See the complete profile on LinkedIn and discover Chris ...\"\n",
      "    },\n",
      "    {\n",
      "      \"title\": \"Scott Freeze - SRN Advisors, LLC | LinkedIn\",\n",
      "      \"url\": \"https://www.linkedin.com/in/scott-freeze-9973341b2\",\n",
      "      \"body\": \"Experience: SRN Advisors, LLC \\u00b7 Location: Huntingdon Valley \\u00b7 49 connections on LinkedIn. View Scott Freeze's profile on LinkedIn, a professional community of 1 billion members.\"\n",
      "    },\n",
      "    {\n",
      "      \"title\": \"Michael Blaszczyk - Chief Compliance Officer - SRN Advisors | LinkedIn\",\n",
      "      \"url\": \"https://www.linkedin.com/in/michael-blaszczyk-8013381b2\",\n",
      "      \"body\": \"View Michael Blaszczyk's profile on LinkedIn, the world's largest professional community. Michael has 1 job listed on their profile. See the complete profile on LinkedIn and discover Michael ...\"\n",
      "    },\n",
      "    {\n",
      "      \"title\": \"Michael Blaszczyk - President - CWA Local 1085 | LinkedIn\",\n",
      "      \"url\": \"https://www.linkedin.com/in/michael-blaszczyk-25952852\",\n",
      "      \"body\": \"President at CWA Local 1085 \\u00b7 Experience: CWA Local 1085 \\u00b7 Location: Sewell \\u00b7 57 connections on LinkedIn. View Michael Blaszczyk's profile on LinkedIn, a professional community of 1 billion ...\"\n",
      "    },\n",
      "    {\n",
      "      \"title\": \"Maralyn Ferrer - United States | Professional Profile | LinkedIn\",\n",
      "      \"url\": \"https://www.linkedin.com/in/maralyn-ferrer-80a266131\",\n",
      "      \"body\": \"View Maralyn Ferrer's professional profile on LinkedIn. LinkedIn is the world's largest business network, helping professionals like Maralyn Ferrer discover inside connections to recommended ...\"\n",
      "    },\n",
      "    {\n",
      "      \"title\": \"2 \\\"Chris Cappillo\\\" profiles | LinkedIn\",\n",
      "      \"url\": \"https://www.linkedin.com/pub/dir/Chris/Cappillo\",\n",
      "      \"body\": \"SRN Advisors LLC Edison, NJ SRN Advisors LLC, +12 more\"\n",
      "    },\n",
      "    {\n",
      "      \"title\": \"John Lapertosa | LinkedIn\",\n",
      "      \"url\": \"https://www.linkedin.com/in/john-lapertosa-8b27915\",\n",
      "      \"body\": \"View John Lapertosa's profile on LinkedIn, the world's largest professional community. John has 2 jobs listed on their profile. See the complete profile on LinkedIn and discover John's ...\"\n",
      "    },\n",
      "    {\n",
      "      \"title\": \"Thomas C. - Director of HIM/Medical Records - LinkedIn\",\n",
      "      \"url\": \"https://www.linkedin.com/in/mrcooper7\",\n",
      "      \"body\": \"Searching for an opportunity that fully utilizes my training and skills, while making a significant contribution to the success of the business \\u00b7 When the pandemic hit, I was laid off from March ...\"\n",
      "    },\n",
      "    {\n",
      "      \"title\": \"Sean McConnell - Technical/Creative Director - Program Manager - SRN ...\",\n",
      "      \"url\": \"https://www.linkedin.com/in/sean-mcconnell-b6152649\",\n",
      "      \"body\": \"SRN - Salem LA. View Sean McConnell's profile on LinkedIn, the world's largest professional community. Sean has 1 job listed on their profile. See the complete profile on LinkedIn and discover ...\"\n",
      "    },\n",
      "    {\n",
      "      \"title\": \"Others named Isabella Arroyo in United States - LinkedIn\",\n",
      "      \"url\": \"https://www.linkedin.com/in/isabella-arroyo-602072300\",\n",
      "      \"body\": \"View Isabella Arroyo's professional profile on LinkedIn. LinkedIn is the world's largest business network, helping professionals like Isabella Arroyo discover inside connections to recommended ...\"\n",
      "    }\n",
      "  ]\n",
      "}\n"
     ]
    }
   ],
   "source": [
    "import json\n",
    "from duckduckgo_search import DDGS\n",
    "\n",
    "def search_company(company_name):\n",
    "    search_query = f\"{company_name} site:linkedin.com\"\n",
    "    \n",
    "    with DDGS() as ddgs:\n",
    "        results = list(ddgs.text(search_query, max_results=10))\n",
    "    \n",
    "    return results\n",
    "\n",
    "# Example usage\n",
    "if __name__ == \"__main__\":\n",
    "    company = \"SRN Advisors LLC\"\n",
    "    search_results = search_company(company)\n",
    "    \n",
    "    json_results = {\n",
    "        \"company\": company,\n",
    "        \"results\": []\n",
    "    }\n",
    "    \n",
    "    for result in search_results:\n",
    "        json_results[\"results\"].append({\n",
    "            \"title\": result['title'],\n",
    "            \"url\": result['href'],\n",
    "            \"body\": result['body']\n",
    "        })\n",
    "    \n",
    "    # Convert to JSON string\n",
    "    json_string = json.dumps(json_results, indent=2)\n",
    "    \n",
    "    # If you want to save to a file:\n",
    "    # with open(f\"{company.replace(' ', '_')}_results.json\", 'w') as f:\n",
    "    #     json.dump(json_results, f, indent=2)\n",
    "    \n",
    "    # Print the JSON string\n",
    "    print(json_string)"
   ]
  },
  {
   "cell_type": "code",
   "execution_count": 13,
   "metadata": {},
   "outputs": [
    {
     "name": "stdout",
     "output_type": "stream",
     "text": [
      "<answer>\n",
      "https://www.linkedin.com/in/chris-cappillo-4474a27,https://www.linkedin.com/in/scott-freeze-9973341b2,https://www.linkedin.com/in/michael-blaszczyk-8013381b2,https://www.linkedin.com/in/michael-blaszczyk-25952852,https://www.linkedin.com/in/maralyn-ferrer-80a266131,https://www.linkedin.com/in/john-lapertosa-8b27915,https://www.linkedin.com/in/mrcooper7,https://www.linkedin.com/in/sean-mcconnell-b6152649,https://www.linkedin.com/in/isabella-arroyo-602072300\n",
      "</answer>\n"
     ]
    }
   ],
   "source": [
    "import anthropic\n",
    "import os\n",
    "from dotenv import load_dotenv\n",
    "\n",
    "load_dotenv()\n",
    "\n",
    "Anthropic_Key = os.getenv(\"13F_Anthropic_Key\")\n",
    "\n",
    "client = anthropic.Anthropic(api_key = Anthropic_Key)\n",
    "\n",
    "system_prompt = \"\"\"\n",
    "\n",
    "You will be provided with information about various websites, including their names, links, and descriptions. Your task is to identify and list the names of websites that are specifically about people.\n",
    "\n",
    "Carefully analyze the provided website information. For each website, determine if its primary focus is on a person or people. This could include biographical websites, personal blogs, or sites dedicated to public figures.\n",
    "\n",
    "After your analysis, provide your response in the following format:\n",
    "\n",
    "<answer>\n",
    "[List the urls of websites about people here, one per line. If there are no such websites, state \"No websites about people found.\"]\n",
    "</answer>\n",
    "\n",
    "Important notes:\n",
    "- Only include websites that are primarily about specific individuals or groups of people.\n",
    "- If there are multiple relevant websites, list all of them in a comma separated format\n",
    "- If no websites are about people, simply state \"No websites about people found.\" in your answer.\n",
    "- Do not include any explanations or additional commentary in your answer, just the list of names or the \"No websites found\" statement.\n",
    "\n",
    "\"\"\"\n",
    "\n",
    "def extract_relevant_links(search_results):\n",
    "    message = client.messages.create(\n",
    "        model=\"claude-3-5-sonnet-20240620\",\n",
    "        max_tokens=1000,\n",
    "        temperature=0,\n",
    "        system=system_prompt,\n",
    "        messages=[\n",
    "            {\n",
    "                \"role\": \"user\",\n",
    "                \"content\": [\n",
    "                    {\n",
    "                        \"type\": \"text\",\n",
    "                        \"text\": f\"{search_results}\"\n",
    "                    }\n",
    "                ]\n",
    "            }\n",
    "        ]\n",
    "    )\n",
    "    print(message.content[0].text)\n",
    "    return message.content[0].text\n",
    "\n",
    "extracted_urls = extract_relevant_links(json_string)"
   ]
  },
  {
   "cell_type": "code",
   "execution_count": 14,
   "metadata": {},
   "outputs": [
    {
     "data": {
      "text/plain": [
       "str"
      ]
     },
     "execution_count": 14,
     "metadata": {},
     "output_type": "execute_result"
    }
   ],
   "source": [
    "type(extracted_urls)"
   ]
  },
  {
   "cell_type": "code",
   "execution_count": 17,
   "metadata": {},
   "outputs": [
    {
     "name": "stdout",
     "output_type": "stream",
     "text": [
      "\n",
      "https://www.linkedin.com/in/chris-cappillo-4474a27,https://www.linkedin.com/in/scott-freeze-9973341b2,https://www.linkedin.com/in/michael-blaszczyk-8013381b2,https://www.linkedin.com/in/michael-blaszczyk-25952852,https://www.linkedin.com/in/maralyn-ferrer-80a266131,https://www.linkedin.com/in/john-lapertosa-8b27915,https://www.linkedin.com/in/mrcooper7,https://www.linkedin.com/in/sean-mcconnell-b6152649,https://www.linkedin.com/in/isabella-arroyo-602072300\n",
      "\n"
     ]
    }
   ],
   "source": [
    "import re\n",
    "\n",
    "def remove_answer_tag(text):\n",
    "    return re.sub(r'</?answer>', '', text)\n",
    "\n",
    "cleaned_extracted_urls = remove_answer_tag(extracted_urls)\n",
    "print(cleaned_extracted_urls)"
   ]
  },
  {
   "cell_type": "code",
   "execution_count": 18,
   "metadata": {},
   "outputs": [],
   "source": [
    "def parse_comma_separated_string(input_string):\n",
    "    # Split the string by commas\n",
    "    items = input_string.split(',')\n",
    "    \n",
    "    # Strip whitespace from each item\n",
    "    cleaned_items = [item.strip() for item in items]\n",
    "    \n",
    "    # Remove any empty items\n",
    "    result = [item for item in cleaned_items if item]\n",
    "    \n",
    "    return result\n",
    "\n",
    "list_of_extracted_urls = parse_comma_separated_string(cleaned_extracted_urls)"
   ]
  },
  {
   "cell_type": "code",
   "execution_count": 19,
   "metadata": {},
   "outputs": [
    {
     "data": {
      "text/plain": [
       "['https://www.linkedin.com/in/chris-cappillo-4474a27',\n",
       " 'https://www.linkedin.com/in/scott-freeze-9973341b2',\n",
       " 'https://www.linkedin.com/in/michael-blaszczyk-8013381b2',\n",
       " 'https://www.linkedin.com/in/michael-blaszczyk-25952852',\n",
       " 'https://www.linkedin.com/in/maralyn-ferrer-80a266131',\n",
       " 'https://www.linkedin.com/in/john-lapertosa-8b27915',\n",
       " 'https://www.linkedin.com/in/mrcooper7',\n",
       " 'https://www.linkedin.com/in/sean-mcconnell-b6152649',\n",
       " 'https://www.linkedin.com/in/isabella-arroyo-602072300']"
      ]
     },
     "execution_count": 19,
     "metadata": {},
     "output_type": "execute_result"
    }
   ],
   "source": [
    "list_of_extracted_urls"
   ]
  }
 ],
 "metadata": {
  "kernelspec": {
   "display_name": "Python 3",
   "language": "python",
   "name": "python3"
  },
  "language_info": {
   "codemirror_mode": {
    "name": "ipython",
    "version": 3
   },
   "file_extension": ".py",
   "mimetype": "text/x-python",
   "name": "python",
   "nbconvert_exporter": "python",
   "pygments_lexer": "ipython3",
   "version": "3.12.1"
  }
 },
 "nbformat": 4,
 "nbformat_minor": 2
}
