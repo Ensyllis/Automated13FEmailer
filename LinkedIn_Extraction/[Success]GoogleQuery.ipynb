{
 "cells": [
  {
   "cell_type": "code",
   "execution_count": 1,
   "metadata": {},
   "outputs": [
    {
     "name": "stdout",
     "output_type": "stream",
     "text": [
      "https://www.linkedin.com/in/scott-freeze-9973341b2\n",
      "https://www.linkedin.com/in/michael-blaszczyk-8013381b2\n",
      "https://www.linkedin.com/in/chris-cappillo-4474a27\n",
      "https://www.linkedin.com/pub/dir/Chris/Cappillo\n",
      "https://www.linkedin.com/pub/dir/Scott/Freeze\n",
      "https://www.linkedin.com/pub/dir/christopher/cappillo?trk=public_profile_samename-see-all\n",
      "https://www.linkedin.com/pub/dir/Mike/Blaszczyk/us-0-United-States\n",
      "https://www.linkedin.com/pub/dir/Mike/Blaszczyk/us-77-Greater-Philadelphia-Area\n",
      "https://www.linkedin.com/in/michael-blaszczyk-2919333\n",
      "https://www.linkedin.com/pub/dir/Michael/Blaszczyk\n"
     ]
    }
   ],
   "source": [
    "try:\n",
    "    from googlesearch import search\n",
    "except ImportError: \n",
    "    print(\"No module named 'google' found\")\n",
    " \n",
    "# to search\n",
    "query = \"SRN Advisors LLC site:linkedin.com\"\n",
    " \n",
    "for j in search(query, tld=\"co.in\", num=10, stop=10, pause=2):\n",
    "    print(j)"
   ]
  },
  {
   "cell_type": "code",
   "execution_count": null,
   "metadata": {},
   "outputs": [],
   "source": [
    "import requests\n",
    "import os\n",
    "from dotenv import load_dotenv\n",
    "\n",
    "load_dotenv()\n",
    "\n",
    "# Replace with your actual API key and Search Engine ID\n",
    "api_key = os.getenv(\"13F_Google_Search_Key\")\n",
    "search_engine_id = 'YOUR_SEARCH_ENGINE_ID'\n",
    "\n",
    "# Search query\n",
    "query = 'snakes'\n",
    "\n",
    "# Construct the API URL\n",
    "url = f'https://www.googleapis.com/customsearch/v1?key={api_key}&cx={search_engine_id}&q={query}'\n",
    "\n",
    "# Send the request\n",
    "response = requests.get(url)\n",
    "\n",
    "# Check if the request was successful\n",
    "if response.status_code == 200:\n",
    "    data = response.json()\n",
    "\n",
    "    # Display the first 5 results\n",
    "    for i in range(min(5, len(data['items']))):\n",
    "        result = data['items'][i]\n",
    "        print(f\"{i+1}. {result['title']}\")\n",
    "        print(result['link'])\n",
    "        print()\n",
    "else:\n",
    "    print(f\"Error: {response.status_code}\")"
   ]
  }
 ],
 "metadata": {
  "kernelspec": {
   "display_name": "Python 3",
   "language": "python",
   "name": "python3"
  },
  "language_info": {
   "codemirror_mode": {
    "name": "ipython",
    "version": 3
   },
   "file_extension": ".py",
   "mimetype": "text/x-python",
   "name": "python",
   "nbconvert_exporter": "python",
   "pygments_lexer": "ipython3",
   "version": "3.12.1"
  }
 },
 "nbformat": 4,
 "nbformat_minor": 2
}
