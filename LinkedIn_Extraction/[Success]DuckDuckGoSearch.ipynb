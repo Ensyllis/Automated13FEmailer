{
 "cells": [
  {
   "cell_type": "code",
   "execution_count": 8,
   "metadata": {},
   "outputs": [
    {
     "name": "stdout",
     "output_type": "stream",
     "text": [
      "Search results for SRN Advisors LLC:\n",
      "\n",
      "1. Title: Chris Cappillo - SVP - SRN Advisors LLC | LinkedIn\n",
      "   URL: https://www.linkedin.com/in/chris-cappillo-4474a27\n",
      "   Body: SRN Advisors LLC Sep 2020 - Present 3 years 7 months. Pennsylvania, United States ETF Sales Institutional Account Executive Bayes Capital Aug ......\n",
      "\n",
      "2. Title: Scott Freeze - SRN Advisors, LLC | LinkedIn\n",
      "   URL: https://www.linkedin.com/in/scott-freeze-9973341b2\n",
      "   Body: Experience: SRN Advisors, LLC · Location: Huntingdon Valley · 49 connections on LinkedIn. View Scott Freeze's profile on LinkedIn, a professional community of 1 billion members....\n",
      "\n",
      "3. Title: Michael Blaszczyk - Chief Compliance Officer - SRN Advisors - LinkedIn\n",
      "   URL: https://www.linkedin.com/in/michael-blaszczyk-8013381b2\n",
      "   Body: Chief Compliance Officer at SRN Advisors LLC Huntingdon Valley, Pennsylvania, United States ... SRN Advisors May 2020 - Present 3 years 10 months. View Michael's full profile ......\n",
      "\n",
      "4. Title: Michael Blaszczyk - VP of ETF/Equity Sales and Trading - LinkedIn\n",
      "   URL: https://www.linkedin.com/in/michael-blaszczyk-2919333\n",
      "   Body: Chief Compliance Officer at SRN Advisors LLC Huntingdon Valley, PA. Michael Blaszczyk President at CWA Local 1085 Sewell, NJ. Michael Blaszczyk San Francisco Bay Area. 12 others named Michael ......\n",
      "\n",
      "5. Title: George Stemetzki - Belmar, New Jersey, United States - LinkedIn\n",
      "   URL: https://www.linkedin.com/in/georgestemetzki\n",
      "   Body: SRN Advisors LLC Edison, NJ. Connect Lori Nicholson Advisor to the Media and Entertainment Industry. Former Head of Global Business Services for ViacomCBS....\n",
      "\n",
      "6. Title: Michael Blaszczyk - President - CWA Local 1085 | LinkedIn\n",
      "   URL: https://www.linkedin.com/in/michael-blaszczyk-25952852\n",
      "   Body: President at CWA Local 1085 · Experience: CWA Local 1085 · Location: Sewell · 57 connections on LinkedIn. View Michael Blaszczyk's profile on LinkedIn, a professional community of 1 billion ......\n",
      "\n",
      "7. Title: 2 \"Chris Cappillo\" profiles | LinkedIn\n",
      "   URL: https://www.linkedin.com/pub/dir/Chris/Cappillo\n",
      "   Body: SRN Advisors LLC Edison, NJ. SRN Advisors LLC, +12 more Christopher Cappillo Director at BTIG New York, NY. BTIG, +2 more New Utrecht high School ......\n",
      "\n",
      "8. Title: 2 \"Christopher Cappillo\" profiles | LinkedIn\n",
      "   URL: https://www.linkedin.com/pub/dir/christopher/cappillo\n",
      "   Body: View the profiles of professionals named \"Christopher Cappillo\" on LinkedIn. There are 2 professionals named \"Christopher Cappillo\", who use LinkedIn to exchange information, ideas, and opportunities....\n",
      "\n",
      "9. Title: christopher cappillo - Director - BTIG | LinkedIn\n",
      "   URL: https://www.linkedin.com/in/christopher-cappillo-964a2732\n",
      "   Body: SRN Advisors LLC Edison, NJ. 1 other named christopher cappillo is on LinkedIn See others named christopher cappillo. Add new skills with these courses AI in Business Essential Training ......\n",
      "\n",
      "10. Title: MARK CARDENAS - Whittier, California, United States - LinkedIn\n",
      "   URL: https://www.linkedin.com/in/mark-cardenas-a8b85644\n",
      "   Body: GoodLeap LLC Nov 2020 - Jul 2022 1 year 9 months. Roseville, California, United States *Underwriting authority up to conforming loan limits. *Collect and analyze borrowers financial information to ......\n"
     ]
    }
   ],
   "source": [
    "from duckduckgo_search import DDGS\n",
    "\n",
    "def search_company(company_name):\n",
    "    search_query = f\"{company_name} site:linkedin.com\"\n",
    "    \n",
    "    with DDGS() as ddgs:\n",
    "        results = list(ddgs.text(search_query, max_results=10))\n",
    "    \n",
    "    return results\n",
    "\n",
    "# Example usage\n",
    "if __name__ == \"__main__\":\n",
    "    company = \"SRN Advisors LLC\"\n",
    "    search_results = search_company(company)\n",
    "    \n",
    "    print(f\"Search results for {company}:\")\n",
    "    for i, result in enumerate(search_results, 1):\n",
    "        print(f\"\\n{i}. Title: {result['title']}\")\n",
    "        print(f\"   URL: {result['href']}\")\n",
    "        print(f\"   Body: {result['body']}...\")  # Print first 100 characters of the body"
   ]
  },
  {
   "cell_type": "markdown",
   "metadata": {},
   "source": [
    "# Testing the Raw Search Result"
   ]
  },
  {
   "cell_type": "code",
   "execution_count": 24,
   "metadata": {},
   "outputs": [
    {
     "name": "stdout",
     "output_type": "stream",
     "text": [
      "\"Search results for SRN Advisors LLC:\\n\\n1. Title: Chris Cappillo - SVP - SRN Advisors LLC | LinkedIn\\n   URL: https://www.linkedin.com/in/chris-cappillo-4474a27\\n   Body: SRN Advisors LLC Sep 2020 - Present 3 years 7 months. Pennsylvania, United States ETF Sales Institutional Account Executive Bayes Capital Aug ...\\n\\n2. Title: Scott Freeze - SRN Advisors, LLC | LinkedIn\\n   URL: https://www.linkedin.com/in/scott-freeze-9973341b2\\n   Body: Experience: SRN Advisors, LLC · Location: Huntingdon Valley · 49 connections on LinkedIn. View Scott Freeze's profile on LinkedIn, a professional community of 1 billion members.\\n\\n3. Title: Michael Blaszczyk - Chief Compliance Officer - SRN Advisors - LinkedIn\\n   URL: https://www.linkedin.com/in/michael-blaszczyk-8013381b2\\n   Body: Chief Compliance Officer at SRN Advisors LLC Huntingdon Valley, Pennsylvania, United States ... SRN Advisors May 2020 - Present 3 years 10 months. View Michael's full profile ...\\n\\n4. Title: Michael Blaszczyk | LinkedIn\\n   URL: https://www.linkedin.com/in/michael-blaszczyk-1b650064\\n   Body: Chief Compliance Officer at SRN Advisors LLC Huntingdon Valley, PA. Michael Blaszczyk President at CWA Local 1085 Sewell, NJ. Michael Blaszczyk San Francisco Bay Area. 12 others named Michael ...\\n\\n5. Title: Thomas Culligan - Fair Haven, New Jersey, United States - LinkedIn\\n   URL: https://www.linkedin.com/in/thomas-culligan-89223b6\\n   Body: SRN Advisors LLC Edison, NJ. Connect Jeffrey Castro New York, NY. Connect Todd Walters Managing Director Somerville, NJ. Connect Timothy Cypher The Villages, FL ...\\n\\n\"\n"
     ]
    }
   ],
   "source": [
    "from duckduckgo_search import DDGS\n",
    "\n",
    "def search_company(company_name):\n",
    "    search_query = f\"{company_name} site:linkedin.com\"\n",
    "    \n",
    "    with DDGS() as ddgs:\n",
    "        results = list(ddgs.text(search_query, max_results=5))\n",
    "    \n",
    "    # Construct a string with all the results\n",
    "    output = f\"Search results for {company_name}:\\n\\n\"\n",
    "    for i, result in enumerate(results, 1):\n",
    "        output += f\"{i}. Title: {result['title']}\\n\"\n",
    "        output += f\"   URL: {result['href']}\\n\"\n",
    "        output += f\"   Body: {result['body']}\\n\\n\"\n",
    "    \n",
    "    return output\n",
    "\n",
    "# Example usage\n",
    "if __name__ == \"__main__\":\n",
    "    company = \"SRN Advisors LLC\"\n",
    "    search_results_string = search_company(company)\n",
    "    \n",
    "    # Print the string as a literal\n",
    "    print(repr(search_results_string))"
   ]
  },
  {
   "cell_type": "code",
   "execution_count": 20,
   "metadata": {},
   "outputs": [
    {
     "name": "stdout",
     "output_type": "stream",
     "text": [
      "376\n"
     ]
    }
   ],
   "source": [
    "import tiktoken\n",
    "\n",
    "encoding = tiktoken.get_encoding(\"cl100k_base\")\n",
    "def num_tokens_from_string(string: str, encoding_name: str) -> int:\n",
    "    \"\"\"Returns the number of tokens in a text string.\"\"\"\n",
    "    encoding = tiktoken.get_encoding(encoding_name)\n",
    "    num_tokens = len(encoding.encode(string))\n",
    "    return num_tokens\n",
    "\n",
    "print(num_tokens_from_string(search_results_string, \"cl100k_base\"))"
   ]
  },
  {
   "cell_type": "code",
   "execution_count": 27,
   "metadata": {},
   "outputs": [
    {
     "name": "stdout",
     "output_type": "stream",
     "text": [
      "Here are the names from the links that talk about people:\n",
      "\n",
      "1. Chris Cappillo\n",
      "2. Scott Freeze\n",
      "3. Michael Blaszczyk\n",
      "4. Thomas Culligan\n"
     ]
    }
   ],
   "source": [
    "import openai as OpenAI\n",
    "import os\n",
    "from dotenv import load_dotenv\n",
    "\n",
    "load_dotenv()\n",
    "\n",
    "api_key = os.getenv(\"13F_OpenAI_Key\")\n",
    "\n",
    "client = OpenAI.Client(api_key = api_key)\n",
    "\n",
    "sys_prompt = \"\"\"\n",
    "\n",
    "you will be provided a number of website names, links and description. Return the Names about the links which talk about people. If there are multiple say all of them in a list format\n",
    "\n",
    "\"\"\"\n",
    "\n",
    "def extract_relevant_links():\n",
    "    completion = client.chat.completions.create(\n",
    "        model=\"gpt-4o-mini\",\n",
    "        messages=[\n",
    "            {\"role\": \"system\", \"content\": f\"{sys_prompt}\"},\n",
    "            {\n",
    "                \"role\": \"user\",\n",
    "                \"content\": f\"{search_results_string}\"\n",
    "            }\n",
    "        ]\n",
    "    )\n",
    "    return completion.choices[0].message.content\n",
    "\n",
    "print(extract_relevant_links())"
   ]
  },
  {
   "cell_type": "markdown",
   "metadata": {},
   "source": [
    "# Extracting Names of Companies with 13F filings"
   ]
  },
  {
   "cell_type": "code",
   "execution_count": null,
   "metadata": {},
   "outputs": [],
   "source": []
  }
 ],
 "metadata": {
  "kernelspec": {
   "display_name": "Python 3",
   "language": "python",
   "name": "python3"
  },
  "language_info": {
   "codemirror_mode": {
    "name": "ipython",
    "version": 3
   },
   "file_extension": ".py",
   "mimetype": "text/x-python",
   "name": "python",
   "nbconvert_exporter": "python",
   "pygments_lexer": "ipython3",
   "version": "3.12.1"
  }
 },
 "nbformat": 4,
 "nbformat_minor": 2
}
