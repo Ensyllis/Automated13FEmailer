{
 "cells": [
  {
   "cell_type": "code",
   "execution_count": 5,
   "metadata": {},
   "outputs": [
    {
     "name": "stdout",
     "output_type": "stream",
     "text": [
      "Waiting for 2.33 seconds before making the request...\n",
      "Status Code: 200\n",
      "Response Headers: {'Cache-Control': 'no-cache, no-store', 'Pragma': 'no-cache', 'Content-Length': '43137', 'Content-Type': 'text/html; charset=utf-8', 'Content-Encoding': 'gzip', 'Expires': 'Thu, 01 Jan 1970 00:00:00 GMT', 'Vary': 'Accept-Encoding', 'Set-Cookie': 'JSESSIONID=ajax:6454524953684710308; SameSite=None; Path=/; Domain=.www.linkedin.com; Secure, lang=v=2&lang=en-us; SameSite=None; Path=/; Domain=linkedin.com; Secure, bcookie=\"v=2&98714ac8-97ab-4ee9-8844-7e0dd65622bb\"; domain=.linkedin.com; Path=/; Secure; Expires=Wed, 03-Sep-2025 18:36:50 GMT; SameSite=None, bscookie=\"v=1&20240903183649308be47b-13f8-471f-8565-b9ab28d403d0AQEu8XMNphz074wt3_p3LBT6X70zJWqH\"; domain=.www.linkedin.com; Path=/; Secure; Expires=Wed, 03-Sep-2025 18:36:50 GMT; HttpOnly; SameSite=None, lidc=\"b=VGST08:s=V:r=V:a=V:p=V:g=3008:u=1:x=1:i=1725388610:t=1725475010:v=2:sig=AQEuLCRhJDdgh4hn_ka6WJW0nDIv3GYI\"; Expires=Wed, 04 Sep 2024 18:36:50 GMT; domain=.linkedin.com; Path=/; SameSite=None; Secure', 'X-Li-Fabric': 'prod-lva1', 'Strict-Transport-Security': 'max-age=31536000', 'X-Content-Type-Options': 'nosniff', 'X-Frame-Options': 'sameorigin', 'Content-Security-Policy': \"default-src 'none'; connect-src 'self' *.licdn.com *.linkedin.com cdn.linkedin.oribi.io dpm.demdex.net/id lnkd.demdex.net blob: accounts.google.com/gsi/ linkedin.sc.omtrdc.net/b/ss/ v.clarity.ms/collect *.microsoft.com *.adnxs.com *.tealiumiq.com login.microsoftonline.com; script-src 'report-sample' 'sha256-th47JTnh6tX15SUn/I+GGmsOSXpa7dh5Skner77gxlY=' 'sha256-SSoodjUD3LGm2FfFCVHGqEb8D4UM3OOigidT2UKDcYg=' 'sha256-cKTgdnmO6+hXd85a9wKg1effVfVzenUAtUCyOKY9bQE=' 'sha256-DwtT8+ZZKpxH9pqZNAmJ3GdbLAh5SsYaXR3omTXPCns=' 'sha256-sV9jZa797T0QWBzcU/CNd4tpBhTnh+TFdLnfjlitl28=' 'sha256-aa/Q8CRBDSqTQbCIyioPhZaz+G+dbPyu7BzsjInEmiU=' 'sha256-THuVhwbXPeTR0HszASqMOnIyxqEgvGyBwSPBKBF/iMc=' 'sha256-zTIusdVJJeXz9+iox2a+pdDglzbpRpFVRzEwvW4AONk=' 'sha256-iC8MPqNLw0FDnsBf4DlSkFLNTwhkI85aouiAEB819ic=' 'sha256-2EqrEvcPzl8c6/TSGVvaVMEe7lg700MAz/te4/3kTYY=' 'sha256-y5uW69VItKj51mcc7UD9qfptDVUqicZL+bItEpvVNDw=' 'sha256-DatsFGoJ8gFkzzxo47Ou76WZ+3QBPOQHtBu9p9b3DhA=' 'sha256-k95cyM8gFgPziZe5VQ2IvJvBUVyd5zFt2CokIUwqdHE=' 'sha256-PyCXNcEkzRWqbiNr087fizmiBBrq9O6GGD8eV3P09Ik=' 'sha256-RFqsjmAF1N5LnfpaHFvPqFlVkeIS/DtTAFor+JjJJVc=' 'sha256-2SQ55Erm3CPCb+k03EpNxU9bdV3XL9TnVTriDs7INZ4=' 'sha256-S/KSPe186K/1B0JEjbIXcCdpB97krdzX05S+dHnQjUs=' 'sha256-9pXOIwF4N0gPltLd3AI69lkCjSC2H/Eb3sc5zdmUyYU=' 'sha256-jou6v/Nleyzoc+LXktAv1Fp8M807dVVxy7E/yzVljHc=' 'sha256-6E4e/3dSvj/8JZT2S2yR91mspqM6MyOpKl5lrhHsZa8=' 'sha256-3woF8BZ54TeXM+czaH3aXoaJsVpiamuAKFsXDykAR/Q=' 'sha256-vIfNcKb8ixJg1cfJIoNNYjWcm0lezj1/XpUNFiZyVsU=' 'sha256-cLsHUHFgT/VGX04cZrJ9xgm4HbzTR7ptutkxK+7BlMk=' 'sha256-BwU8jMnQYUhjOpsDVABpfddV/DlP1ZYrFcTumYw7x54=' 'sha256-wz6ika9i3WU3bpUPdhYDZeO/NrDQniDyiscN0LWnyaY=' static.licdn.com static-exp1.licdn.com static-exp2.licdn.com static-exp3.licdn.com platform.linkedin.com platform-akam.linkedin.com platform-ecst.linkedin.com platform-azur.linkedin.com snap.licdn.com www.googletagmanager.com/gtag/js merchantpool1.linkedin.com/mdt.js; img-src data: blob: * android-webview-video-poster:; font-src data: *; style-src 'self' 'unsafe-inline' static.licdn.com static-exp1.licdn.com static-exp2.licdn.com static-exp3.licdn.com; media-src 'self' *.licdn.com *.lynda.com; worker-src 'self' blob: static.licdn.com static-exp1.licdn.com static-exp2.licdn.com static-exp3.licdn.com; frame-src 'self' www.youtube.com/embed/ www.youtube-nocookie.com/embed/ lnkd.demdex.net smartlock.google.com accounts.google.com player.vimeo.com *.linkedin.com www.slideshare.net *.megaphone.fm *.omny.fm *.sounder.fm msit.powerbi.com app.powerbi.com linkedin.github.io *.licdn.com *.adnxs.com acdn.adnxs-simple.com radar.cedexis.com edge-auth.microsoft.com flo.uri.sh li.protechts.net *.xlgmedia.com *.px-cloud.net merchantpool1.linkedin.com; frame-ancestors 'self' *.www.linkedin.com:*; manifest-src 'self'; report-uri https://www.linkedin.com/security/csp?f=gg\", 'X-Li-Source-Fabric': 'prod-ltx1', 'X-Li-Pop': 'afd-prod-ltx1-x', 'X-Li-Proto': 'http/1.1', 'X-LI-UUID': 'AAYhO1ckKMTCm6Z6X1e8SA==', 'X-Cache': 'CONFIG_NOCACHE', 'X-MSEdge-Ref': 'Ref A: F1D32BFA0E9F4782954B8D59C3EA8345 Ref B: LAX311000115049 Ref C: 2024-09-03T18:36:49Z', 'Date': 'Tue, 03 Sep 2024 18:36:49 GMT'}\n",
      "Successfully retrieved the page. Here's the content:\n",
      "<!DOCTYPE html>\n",
      "\n",
      "    \n",
      "    \n",
      "    \n",
      "    \n",
      "    \n",
      "    \n",
      "\n",
      "    \n",
      "    <html lang=\"en\">\n",
      "      <head>\n",
      "        <meta name=\"pageKey\" content=\"d_org_guest_company_overview\">\n",
      "          \n",
      "    <meta name=\"robots\" content=\"max-image-preview:large, noarchive\">\n",
      "    <meta name=\"bingbot\" content=\"nocache\">\n",
      "  \n",
      "          <meta name=\"linkedin:pageTag\" content=\"noncanonical_subdomain=control\">\n",
      "        <meta name=\"locale\" content=\"en_US\">\n",
      "        <meta id=\"config\" data-app-version=\"2.0.1897\" data-call-tree-id=\"AAYhO1ckKMTCm6Z6X1e8SA==\" data-multiproduct-name=\"organization-guest-frontend\" data-service-name=\"organization-guest-frontend\" data-browser-id=\"98714ac8-97ab-4ee9-8844-7e0dd65622bb\" data-enable-page-view-heartbeat-tracking data-page-instance=\"urn:li:page:d_org_guest_company_overview;34BedLVtTkyk3tmaaaHPzA==\" data-disable-jsbeacon-pagekey-suffix=\"false\" data-member-id=\"0\" data-msafdf-lib=\"https://static.licdn.com/aero-v1/sc/h/80ndnja80f2uvg4l8sj2su82m\" data-dna-member-lix-treatment=\"control\" data-human-member-li...\n"
     ]
    }
   ],
   "source": [
    "import requests\n",
    "import time\n",
    "import random\n",
    "\n",
    "def fetch_linkedin_company_page(url):\n",
    "    headers = {\n",
    "        'User-Agent': 'Mozilla/5.0 (Windows NT 10.0; Win64; x64) AppleWebKit/537.36 (KHTML, like Gecko) Chrome/91.0.4472.124 Safari/537.36'\n",
    "    }\n",
    "\n",
    "    try:\n",
    "        # Random delay between 2 to 5 seconds\n",
    "        delay = random.uniform(2, 5)\n",
    "        print(f\"Waiting for {delay:.2f} seconds before making the request...\")\n",
    "        time.sleep(delay)\n",
    "\n",
    "        # Send a GET request to the URL\n",
    "        response = requests.get(url, headers=headers)\n",
    "        \n",
    "        print(f\"Status Code: {response.status_code}\")\n",
    "        print(f\"Response Headers: {response.headers}\")\n",
    "        \n",
    "        if response.status_code == 200:\n",
    "            print(\"Successfully retrieved the page. Here's the content:\")\n",
    "            print(response.text[:1000] + \"...\") # Print first 1000 characters\n",
    "        elif response.status_code == 999:\n",
    "            print(\"Received a 999 status code. LinkedIn may have detected automated access.\")\n",
    "        else:\n",
    "            print(f\"Failed to retrieve the page. Status code: {response.status_code}\")\n",
    "    \n",
    "    except requests.RequestException as e:\n",
    "        print(f\"An error occurred: {e}\")\n",
    "\n",
    "# Example usage\n",
    "if __name__ == \"__main__\":\n",
    "    url = \"https://www.linkedin.com/company/google/\"\n",
    "    fetch_linkedin_company_page(url)"
   ]
  }
 ],
 "metadata": {
  "kernelspec": {
   "display_name": "Python 3",
   "language": "python",
   "name": "python3"
  },
  "language_info": {
   "codemirror_mode": {
    "name": "ipython",
    "version": 3
   },
   "file_extension": ".py",
   "mimetype": "text/x-python",
   "name": "python",
   "nbconvert_exporter": "python",
   "pygments_lexer": "ipython3",
   "version": "3.12.1"
  }
 },
 "nbformat": 4,
 "nbformat_minor": 2
}
