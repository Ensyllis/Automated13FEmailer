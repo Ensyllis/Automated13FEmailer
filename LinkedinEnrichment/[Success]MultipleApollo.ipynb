{
 "cells": [
  {
   "cell_type": "code",
   "execution_count": 2,
   "metadata": {},
   "outputs": [
    {
     "name": "stdout",
     "output_type": "stream",
     "text": [
      "LinkedIn URL: http://www.linkedin.com/in/peter-raber-5964a222\n",
      "Email: peter@afiadvisors.com\n",
      "First Name: Peter\n",
      "Last Name: Raber\n",
      "Title: President\n",
      "---\n",
      "LinkedIn URL: http://www.linkedin.com/in/kaylee-feathers-5054a91a2\n",
      "Email: None\n",
      "First Name: Kaylee\n",
      "Last Name: Feathers\n",
      "Title: MBA Student\n",
      "---\n",
      "LinkedIn URL: http://www.linkedin.com/in/justin-lester-cfp%c2%ae-42686272\n",
      "Email: jlester@aldebaranfinancial.com\n",
      "First Name: Justin\n",
      "Last Name: Lester\n",
      "Title: President\n",
      "---\n",
      "LinkedIn URL: None\n",
      "Email: None\n",
      "First Name: Aldebaran\n",
      "Last Name: S\n",
      "Title: President\n",
      "---\n"
     ]
    }
   ],
   "source": [
    "import requests\n",
    "import json\n",
    "\n",
    "def process_linkedin_urls(linkedin_urls):\n",
    "    url = \"https://api.apollo.io/api/v1/people/bulk_match\"\n",
    "    headers = {\n",
    "        'Cache-Control': 'no-cache',\n",
    "        'Content-Type': 'application/json',\n",
    "        'X-Api-Key': \"4_TLpjdY4aWQsArrVAZWNw\"\n",
    "    }\n",
    "\n",
    "    # Prepare the data payload\n",
    "    data = {\n",
    "        \"reveal_personal_emails\": True,\n",
    "        \"reveal_phone_number\": True,\n",
    "        \"webhook_url\": \"https://your_webhook_site\",\n",
    "        \"details\": [{\"linkedin_url\": url} for url in linkedin_urls]\n",
    "    }\n",
    "\n",
    "    # Make the API request\n",
    "    response = requests.post(url, headers=headers, json=data)\n",
    "    \n",
    "    # Check if the request was successful\n",
    "    if response.status_code == 200:\n",
    "        results = response.json()\n",
    "        \n",
    "        # Extract and print relevant information\n",
    "        for match in results.get('matches', []):\n",
    "            print(f\"LinkedIn URL: {match.get('linkedin_url', 'N/A')}\")\n",
    "            print(f\"Email: {match.get('email', 'N/A')}\")\n",
    "            print(f\"First Name: {match.get('first_name', 'N/A')}\")\n",
    "            print(f\"Last Name: {match.get('last_name', 'N/A')}\")\n",
    "            print(f\"Title: {match.get('title', 'N/A')}\")\n",
    "            print(\"---\")\n",
    "    else:\n",
    "        print(f\"Error: {response.status_code} - {response.text}\")\n",
    "\n",
    "# Example usage\n",
    "linkedin_urls = [\n",
    "    \"https://www.linkedin.com/in/peter-raber-5964a222\",\n",
    "    \"https://www.linkedin.com/in/kaylee-feathers-5054a91a2\",\n",
    "    \"https://www.linkedin.com/in/justin-lester-cfp%C2%AE-42686272\",\n",
    "    \"https://www.linkedin.com/in/aldebaran-capital-skarbeck-9824a7b\"\n",
    "]\n",
    "\n",
    "process_linkedin_urls(linkedin_urls)"
   ]
  }
 ],
 "metadata": {
  "kernelspec": {
   "display_name": "Python 3",
   "language": "python",
   "name": "python3"
  },
  "language_info": {
   "codemirror_mode": {
    "name": "ipython",
    "version": 3
   },
   "file_extension": ".py",
   "mimetype": "text/x-python",
   "name": "python",
   "nbconvert_exporter": "python",
   "pygments_lexer": "ipython3",
   "version": "3.12.1"
  }
 },
 "nbformat": 4,
 "nbformat_minor": 2
}
