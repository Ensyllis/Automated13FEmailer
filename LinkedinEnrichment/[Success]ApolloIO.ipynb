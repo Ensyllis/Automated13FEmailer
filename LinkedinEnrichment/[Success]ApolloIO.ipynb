{
 "cells": [
  {
   "cell_type": "code",
   "execution_count": 1,
   "metadata": {},
   "outputs": [
    {
     "name": "stdout",
     "output_type": "stream",
     "text": [
      "{\"status\":\"success\",\"error_code\":null,\"error_message\":null,\"total_requested_enrichments\":1,\"unique_enriched_records\":1,\"missing_records\":0,\"credits_consumed\":1,\"matches\":[{\"id\":\"66b8a5d38d90c000011cce51\",\"first_name\":\"Tim\",\"last_name\":\"Z\",\"name\":\"Tim Z\",\"linkedin_url\":null,\"title\":\"Founder \\u0026 CEO\",\"email_status\":\"verified\",\"photo_url\":\"https://static.licdn.com/aero-v1/sc/h/9c8pery4andzj6ohjkjp54ma2\",\"twitter_url\":null,\"github_url\":null,\"facebook_url\":null,\"extrapolated_email_confidence\":null,\"headline\":\"Founder \\u0026 CEO at Apollo\",\"email\":\"tim@apollo.io\",\"organization_id\":\"5e66b6381e05b4008c8331b8\",\"employment_history\":[{\"_id\":\"66d8b4c0908c5c00014ce256\",\"created_at\":null,\"current\":true,\"degree\":null,\"description\":null,\"emails\":null,\"end_date\":null,\"grade_level\":null,\"kind\":null,\"major\":null,\"organization_id\":\"5e66b6381e05b4008c8331b8\",\"organization_name\":\"Apollo\",\"raw_address\":null,\"start_date\":\"2016-01-01\",\"title\":\"Founder \\u0026 CEO\",\"updated_at\":null,\"id\":\"66d8b4c0908c5c00014ce256\",\"key\":\"66d8b4c0908c5c00014ce256\"},{\"_id\":\"66d8b4c0908c5c00014ce257\",\"created_at\":null,\"current\":false,\"degree\":null,\"description\":null,\"emails\":null,\"end_date\":\"2015-01-01\",\"grade_level\":null,\"kind\":null,\"major\":null,\"organization_id\":null,\"organization_name\":\"Braingenie\",\"raw_address\":null,\"start_date\":\"2011-01-01\",\"title\":\"Founder \\u0026 CEO\",\"updated_at\":null,\"id\":\"66d8b4c0908c5c00014ce257\",\"key\":\"66d8b4c0908c5c00014ce257\"},{\"_id\":\"66d8b4c0908c5c00014ce258\",\"created_at\":null,\"current\":false,\"degree\":null,\"description\":null,\"emails\":null,\"end_date\":\"2011-01-01\",\"grade_level\":null,\"kind\":null,\"major\":null,\"organization_id\":\"54a22f23746869331840e813\",\"organization_name\":\"Citadel Investment Group\",\"raw_address\":null,\"start_date\":\"2011-01-01\",\"title\":\"Investment \\u0026 Trading Associate\",\"updated_at\":null,\"id\":\"66d8b4c0908c5c00014ce258\",\"key\":\"66d8b4c0908c5c00014ce258\"},{\"_id\":\"66d8b4c0908c5c00014ce259\",\"created_at\":null,\"current\":false,\"degree\":null,\"description\":null,\"emails\":null,\"end_date\":\"2010-09-01\",\"grade_level\":null,\"kind\":null,\"major\":null,\"organization_id\":\"54a1216169702d7fe6dfca02\",\"organization_name\":\"The Boston Consulting Group\",\"raw_address\":null,\"start_date\":\"2010-01-01\",\"title\":\"Summer Associate\",\"updated_at\":null,\"id\":\"66d8b4c0908c5c00014ce259\",\"key\":\"66d8b4c0908c5c00014ce259\"},{\"_id\":\"66d8b4c0908c5c00014ce25a\",\"created_at\":null,\"current\":false,\"degree\":null,\"description\":null,\"emails\":null,\"end_date\":\"2010-01-01\",\"grade_level\":null,\"kind\":null,\"major\":null,\"organization_id\":\"5da2e6a3f978a8000177e831\",\"organization_name\":\"Goldman Sachs\",\"raw_address\":null,\"start_date\":\"2010-06-01\",\"title\":\"Summer Analyst\",\"updated_at\":null,\"id\":\"66d8b4c0908c5c00014ce25a\",\"key\":\"66d8b4c0908c5c00014ce25a\"}],\"state\":\"California\",\"city\":\"San Francisco\",\"country\":\"United States\",\"restricted\":true,\"organization\":{\"id\":\"5e66b6381e05b4008c8331b8\",\"name\":\"Apollo.io\",\"website_url\":\"http://www.apollo.io\",\"blog_url\":null,\"angellist_url\":null,\"linkedin_url\":\"http://www.linkedin.com/company/apolloio\",\"twitter_url\":\"https://twitter.com/meetapollo/\",\"facebook_url\":\"https://www.facebook.com/MeetApollo\",\"primary_phone\":{},\"languages\":[],\"alexa_ranking\":3514,\"phone\":null,\"linkedin_uid\":\"18511550\",\"founded_year\":2015,\"publicly_traded_symbol\":null,\"publicly_traded_exchange\":null,\"logo_url\":\"https://zenprospect-production.s3.amazonaws.com/uploads/pictures/66d13c8d98ec9600013525b8/picture\",\"crunchbase_url\":null,\"primary_domain\":\"apollo.io\",\"industry\":\"information technology \\u0026 services\",\"keywords\":[\"sales engagement\",\"lead generation\",\"predictive analytics\",\"lead scoring\",\"sales strategy\",\"conversation intelligence\",\"sales enablement\",\"lead routing\",\"sales development\",\"email engagement\",\"revenue intelligence\",\"sales operations\",\"sales intelligence\",\"lead intelligence\",\"prospecting\",\"b2b data\"],\"estimated_num_employees\":1600,\"industries\":[\"information technology \\u0026 services\"],\"secondary_industries\":[],\"snippets_loaded\":true,\"industry_tag_id\":\"5567cd4773696439b10b0000\",\"industry_tag_hash\":{\"information technology \\u0026 services\":\"5567cd4773696439b10b0000\"},\"retail_location_count\":0,\"raw_address\":\"415 Mission St, Floor 37, San Francisco, California 94105, US\",\"street_address\":\"415 Mission St\",\"city\":\"San Francisco\",\"state\":\"California\",\"postal_code\":\"94105-2301\",\"country\":\"United States\"},\"is_likely_to_engage\":true,\"departments\":[\"c_suite\"],\"subdepartments\":[\"executive\",\"founder\"],\"seniority\":\"founder\",\"functions\":[\"entrepreneurship\"],\"intent_strength\":null,\"show_intent\":false,\"revealed_for_current_team\":true,\"personal_emails\":[]}]}\n"
     ]
    }
   ],
   "source": [
    "import requests\n",
    "\n",
    "url = \"https://api.apollo.io/api/v1/people/bulk_match\"\n",
    "\n",
    "data = {\n",
    "    \"reveal_personal_emails\": True,\n",
    "    \"reveal_phone_number\": True,\n",
    "    \"webhook_url\": \"https://your_webhook_site\",\n",
    "    \"details\": [\n",
    "        {\n",
    "            \"linkedin_url\": \"http://www.linkedin.com/in/tim-zheng-677ba010\"\n",
    "        }\n",
    "    ]\n",
    "}\n",
    "\n",
    "headers = {\n",
    "    'Cache-Control': 'no-cache',\n",
    "    'Content-Type': 'application/json',\n",
    "    'X-Api-Key': \"4_TLpjdY4aWQsArrVAZWNw\"\n",
    "}\n",
    "\n",
    "response = requests.request(\"POST\", url, headers=headers, json=data)\n",
    "\n",
    "print(response.text)\n"
   ]
  }
 ],
 "metadata": {
  "kernelspec": {
   "display_name": "Python 3",
   "language": "python",
   "name": "python3"
  },
  "language_info": {
   "codemirror_mode": {
    "name": "ipython",
    "version": 3
   },
   "file_extension": ".py",
   "mimetype": "text/x-python",
   "name": "python",
   "nbconvert_exporter": "python",
   "pygments_lexer": "ipython3",
   "version": "3.12.1"
  }
 },
 "nbformat": 4,
 "nbformat_minor": 2
}
